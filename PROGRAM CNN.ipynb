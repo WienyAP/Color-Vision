{
 "cells": [
  {
   "cell_type": "code",
   "execution_count": null,
   "metadata": {},
   "outputs": [],
   "source": [
    "import tensorflow as tf\n",
    "import pandas as pd\n",
    "import numpy as np\n",
    "import seaborn as sns\n",
    "import matplotlib.pyplot as plt\n",
    "import sklearn.metrics"
   ]
  },
  {
   "cell_type": "code",
   "execution_count": 1,
   "metadata": {},
   "outputs": [
    {
     "data": {
      "text/plain": [
       "['BIRU', 'HIJAU', 'KUNING', 'MERAH', 'ORANYE', 'UNGU']"
      ]
     },
     "execution_count": 1,
     "metadata": {},
     "output_type": "execute_result"
    }
   ],
   "source": [
    "import os\n",
    "asset_dir = 'D:/SEM 8/TA/DRAFT TA/DATANEW'\n",
    "merah = os.path.join(asset_dir, 'MERAH')\n",
    "biru = os.path.join(asset_dir, 'BIRU')\n",
    "kuning = os.path.join(asset_dir, 'KUNING')\n",
    "hijau = os.path.join(asset_dir, 'HIJAU')\n",
    "ungu = os.path.join(asset_dir, 'UNGU')\n",
    "oranye = os.path.join(asset_dir, 'ORANYE')\n",
    "\n",
    "os.listdir(asset_dir)"
   ]
  },
  {
   "cell_type": "code",
   "execution_count": 2,
   "metadata": {},
   "outputs": [
    {
     "name": "stdout",
     "output_type": "stream",
     "text": [
      "        Dataset\n",
      "Merah       100\n",
      "Biru        100\n",
      "Kuning      100\n",
      "Hijau       100\n",
      "Ungu        100\n",
      "Oranye      100\n",
      "\n",
      "Jumlah Data: 600\n"
     ]
    }
   ],
   "source": [
    "import pandas as pd\n",
    "\n",
    "df = pd.DataFrame(data = [len(os.listdir(merah)), len(os.listdir(biru)), len(os.listdir(kuning)), len(os.listdir(hijau)), len(os.listdir(ungu)), len(os.listdir(oranye))],\n",
    "                  index = ['Merah', 'Biru', 'Kuning', 'Hijau', 'Ungu', 'Oranye'], columns = ['Dataset'])\n",
    "\n",
    "print(df)\n",
    "\n",
    "total_images = df['Dataset'].sum()\n",
    "print(f\"\\nJumlah Data: {total_images}\")"
   ]
  },
  {
   "cell_type": "code",
   "execution_count": 23,
   "metadata": {},
   "outputs": [],
   "source": [
    "import os\n",
    "import shutil\n",
    "import numpy as np\n",
    "\n",
    "# Direktori dataset\n",
    "src_directory = 'D:/SEM 8/TA/DRAFT TA/DATANEW'\n",
    "\n",
    "# Direktori tujuan data train, validation, dan test\n",
    "train_dir = 'D:/SEM 8/TA/DRAFT TA/DATA_LATIH_UJI/train'\n",
    "test_dir = 'D:/SEM 8/TA/DRAFT TA/DATA_LATIH_UJI/test'\n",
    "\n",
    "# Rasio pembagian\n",
    "train_ratio = 0.8\n",
    "test_ratio = 0.2\n",
    "\n",
    "for class_name in os.listdir(src_directory):\n",
    "    # Buat direktori kelas di dalam setiap set data\n",
    "    os.makedirs(os.path.join(train_dir, class_name), exist_ok=True)\n",
    "    #os.makedirs(os.path.join(val_dir, class_name), exist_ok=True)\n",
    "    os.makedirs(os.path.join(test_dir, class_name), exist_ok=True)\n",
    "\n",
    "    # Daftar semua file dalam direktori kelas\n",
    "    src_class_dir = os.path.join(src_directory, class_name)\n",
    "    files = os.listdir(src_class_dir)\n",
    "\n",
    "    # Acak dan bagilah file ke setiap set data\n",
    "    np.random.shuffle(files)\n",
    "    train_split = int(len(files) * train_ratio)\n",
    "    #val_split = int(len(files) * (train_ratio + val_ratio))\n",
    "\n",
    "    train_files = files[:train_split]\n",
    "    #val_files = files[train_split:val_split]\n",
    "    test_files = files[train_split:]\n",
    "\n",
    "    # Salin file ke direktori tujuan yang sesuai\n",
    "    for fname in train_files:\n",
    "        shutil.copy(os.path.join(src_class_dir, fname), os.path.join(train_dir, class_name))\n",
    "    #for fname in val_files:\n",
    "     #   shutil.copy(os.path.join(src_class_dir, fname), os.path.join(val_dir, class_name))\n",
    "    for fname in test_files:\n",
    "       shutil.copy(os.path.join(src_class_dir, fname), os.path.join(test_dir, class_name))\n"
   ]
  },
  {
   "cell_type": "code",
   "execution_count": 26,
   "metadata": {},
   "outputs": [
    {
     "name": "stdout",
     "output_type": "stream",
     "text": [
      "Found 480 images belonging to 6 classes.\n"
     ]
    }
   ],
   "source": [
    "from tensorflow.keras.preprocessing.image import ImageDataGenerator\n",
    "\n",
    "# Insialisasi ImageDataGenerator untuk set pelatihan\n",
    "train_datagen = ImageDataGenerator(\n",
    "    rescale = 1./255,\n",
    "    zoom_range = 0.25,\n",
    "    rotation_range = 20,\n",
    "    horizontal_flip = True,\n",
    "    vertical_flip = True,\n",
    "    fill_mode = 'nearest'\n",
    ")\n",
    "\n",
    "# Menyesuaikan path direktori ke direktori pelatihan dan validasi\n",
    "train_dir = 'D:/SEM 8/TA/DRAFT TA/DATA_LATIH_UJI/train'\n",
    "\n",
    "train_generator = train_datagen.flow_from_directory(\n",
    "    train_dir,\n",
    "    target_size = (224, 224),\n",
    "    batch_size = 32,\n",
    "    class_mode = 'categorical',\n",
    "    color_mode = 'rgb',\n",
    "    classes = ['MERAH', 'BIRU', 'KUNING', 'HIJAU', 'UNGU', 'ORANYE']\n",
    ")"
   ]
  },
  {
   "cell_type": "code",
   "execution_count": 36,
   "metadata": {},
   "outputs": [
    {
     "name": "stdout",
     "output_type": "stream",
     "text": [
      "Found 120 images belonging to 6 classes.\n"
     ]
    }
   ],
   "source": [
    "from tensorflow.keras.preprocessing.image import ImageDataGenerator\n",
    "\n",
    "# Mempersiapkan test generator\n",
    "test_dir = 'D:/SEM 8/TA/DRAFT TA/DATA_LATIH_UJI/test'\n",
    "test_generator = ImageDataGenerator(rescale=1/255.0)\n",
    "\n",
    "test_data_generator = test_generator.flow_from_directory(\n",
    "    test_dir,  # Asumsikan 'test_dir' adalah direktori yang berisi data test\n",
    "    target_size=(224, 224),\n",
    "    batch_size=32,\n",
    "    class_mode='categorical',\n",
    "    color_mode='rgb',\n",
    "    classes=['MERAH', 'BIRU', 'KUNING', 'HIJAU', 'UNGU', 'ORANYE'],\n",
    "    shuffle = False\n",
    ")"
   ]
  },
  {
   "cell_type": "code",
   "execution_count": 29,
   "metadata": {},
   "outputs": [],
   "source": [
    "import tensorflow as tf\n",
    "\n",
    "model = tf.keras.models.Sequential([\n",
    "    # Feature extraction\n",
    "    # Layer konvolusi 1, input_shape = 224x224, dengan 3 kanal (rgb)\n",
    "    tf.keras.layers.Conv2D(32, (3,3), activation='relu', input_shape=(224, 224, 3)),\n",
    "    tf.keras.layers.MaxPooling2D (2,2),\n",
    "\n",
    "    # Layer konvolusi 2\n",
    "    tf.keras.layers.Conv2D (64, (3, 3), activation='relu'),\n",
    "    tf.keras.layers.MaxPooling2D (2,2),\n",
    "\n",
    "    # Layer konvolusi 3\n",
    "    tf.keras.layers.Conv2D (128, (3,3), activation='relu'),\n",
    "    tf.keras.layers.MaxPooling2D (2, 2),\n",
    "\n",
    "    # Layer konvolusi 4\n",
    "    tf.keras.layers.Conv2D (256, (3, 3), activation='relu'),\n",
    "    tf.keras.layers.MaxPooling2D (2, 2),\n",
    "\n",
    "    # Fully Connected Layer\n",
    "    # Flatten layer (meratakan output dense layer)\n",
    "    tf.keras.layers.Flatten(),\n",
    "\n",
    "    # Dense layer\n",
    "    tf.keras.layers.Dense (128, activation='relu'),\n",
    "    tf.keras.layers.Dropout (0.5),\n",
    "\n",
    "    # Lapisan output dengan 6 kelas klasifikasi (menggunakan softmax)\n",
    "    tf.keras.layers.Dense(6, activation='softmax')\n",
    "])"
   ]
  },
  {
   "cell_type": "code",
   "execution_count": 30,
   "metadata": {},
   "outputs": [
    {
     "name": "stdout",
     "output_type": "stream",
     "text": [
      "Model: \"sequential_3\"\n",
      "_________________________________________________________________\n",
      " Layer (type)                Output Shape              Param #   \n",
      "=================================================================\n",
      " conv2d_12 (Conv2D)          (None, 222, 222, 32)      896       \n",
      "                                                                 \n",
      " max_pooling2d_12 (MaxPoolin  (None, 111, 111, 32)     0         \n",
      " g2D)                                                            \n",
      "                                                                 \n",
      " conv2d_13 (Conv2D)          (None, 109, 109, 64)      18496     \n",
      "                                                                 \n",
      " max_pooling2d_13 (MaxPoolin  (None, 54, 54, 64)       0         \n",
      " g2D)                                                            \n",
      "                                                                 \n",
      " conv2d_14 (Conv2D)          (None, 52, 52, 128)       73856     \n",
      "                                                                 \n",
      " max_pooling2d_14 (MaxPoolin  (None, 26, 26, 128)      0         \n",
      " g2D)                                                            \n",
      "                                                                 \n",
      " conv2d_15 (Conv2D)          (None, 24, 24, 256)       295168    \n",
      "                                                                 \n",
      " max_pooling2d_15 (MaxPoolin  (None, 12, 12, 256)      0         \n",
      " g2D)                                                            \n",
      "                                                                 \n",
      " flatten_3 (Flatten)         (None, 36864)             0         \n",
      "                                                                 \n",
      " dense_6 (Dense)             (None, 128)               4718720   \n",
      "                                                                 \n",
      " dropout_3 (Dropout)         (None, 128)               0         \n",
      "                                                                 \n",
      " dense_7 (Dense)             (None, 6)                 774       \n",
      "                                                                 \n",
      "=================================================================\n",
      "Total params: 5,107,910\n",
      "Trainable params: 5,107,910\n",
      "Non-trainable params: 0\n",
      "_________________________________________________________________\n"
     ]
    }
   ],
   "source": [
    "model.summary()"
   ]
  },
  {
   "cell_type": "code",
   "execution_count": 31,
   "metadata": {},
   "outputs": [],
   "source": [
    "model.compile(loss = 'categorical_crossentropy',\n",
    "              optimizer = tf.optimizers.Adam(),\n",
    "              metrics = ['accuracy'])"
   ]
  },
  {
   "cell_type": "code",
   "execution_count": 32,
   "metadata": {},
   "outputs": [
    {
     "name": "stdout",
     "output_type": "stream",
     "text": [
      "Epoch 1/100\n",
      "15/15 [==============================] - 47s 3s/step - loss: 1.1424 - accuracy: 0.5292\n",
      "Epoch 2/100\n",
      "15/15 [==============================] - 45s 3s/step - loss: 0.4038 - accuracy: 0.8771\n",
      "Epoch 3/100\n",
      "15/15 [==============================] - 45s 3s/step - loss: 0.2181 - accuracy: 0.9187\n",
      "Epoch 4/100\n",
      "15/15 [==============================] - 45s 3s/step - loss: 0.2847 - accuracy: 0.9167\n",
      "Epoch 5/100\n",
      "15/15 [==============================] - 46s 3s/step - loss: 0.2053 - accuracy: 0.9375\n",
      "Epoch 6/100\n",
      "15/15 [==============================] - 46s 3s/step - loss: 0.1629 - accuracy: 0.9500\n",
      "Epoch 7/100\n",
      "15/15 [==============================] - 45s 3s/step - loss: 0.2968 - accuracy: 0.9167\n",
      "Epoch 8/100\n",
      "15/15 [==============================] - 49s 3s/step - loss: 0.1708 - accuracy: 0.9479\n",
      "Epoch 9/100\n",
      "15/15 [==============================] - 43s 3s/step - loss: 0.1896 - accuracy: 0.9583\n",
      "Epoch 10/100\n",
      "15/15 [==============================] - 44s 3s/step - loss: 0.2621 - accuracy: 0.9375\n",
      "Epoch 11/100\n",
      "15/15 [==============================] - 50s 3s/step - loss: 0.1631 - accuracy: 0.9625\n",
      "Epoch 12/100\n",
      "15/15 [==============================] - 46s 3s/step - loss: 0.1897 - accuracy: 0.9479\n",
      "Epoch 13/100\n",
      "15/15 [==============================] - 50s 3s/step - loss: 0.2161 - accuracy: 0.9438\n",
      "Epoch 14/100\n",
      "15/15 [==============================] - 53s 3s/step - loss: 0.2176 - accuracy: 0.9438\n",
      "Epoch 15/100\n",
      "15/15 [==============================] - 46s 3s/step - loss: 0.1766 - accuracy: 0.9521\n",
      "Epoch 16/100\n",
      "15/15 [==============================] - 45s 3s/step - loss: 0.0874 - accuracy: 0.9667\n",
      "Epoch 17/100\n",
      "15/15 [==============================] - 42s 3s/step - loss: 0.1833 - accuracy: 0.9625\n",
      "Epoch 18/100\n",
      "15/15 [==============================] - 42s 3s/step - loss: 0.1206 - accuracy: 0.9583\n",
      "Epoch 19/100\n",
      "15/15 [==============================] - 42s 3s/step - loss: 0.0776 - accuracy: 0.9833\n",
      "Epoch 20/100\n",
      "15/15 [==============================] - 43s 3s/step - loss: 0.1228 - accuracy: 0.9625\n",
      "Epoch 21/100\n",
      "15/15 [==============================] - 43s 3s/step - loss: 0.0901 - accuracy: 0.9729\n",
      "Epoch 22/100\n",
      "15/15 [==============================] - 44s 3s/step - loss: 0.1690 - accuracy: 0.9438\n",
      "Epoch 23/100\n",
      "15/15 [==============================] - 44s 3s/step - loss: 0.1272 - accuracy: 0.9688\n",
      "Epoch 24/100\n",
      "15/15 [==============================] - 44s 3s/step - loss: 0.1429 - accuracy: 0.9583\n",
      "Epoch 25/100\n",
      "15/15 [==============================] - 44s 3s/step - loss: 0.2661 - accuracy: 0.9396\n",
      "Epoch 26/100\n",
      "15/15 [==============================] - 44s 3s/step - loss: 0.1259 - accuracy: 0.9625\n",
      "Epoch 27/100\n",
      "15/15 [==============================] - 44s 3s/step - loss: 0.1577 - accuracy: 0.9646\n",
      "Epoch 28/100\n",
      "15/15 [==============================] - 44s 3s/step - loss: 0.2621 - accuracy: 0.9312\n",
      "Epoch 29/100\n",
      "15/15 [==============================] - 45s 3s/step - loss: 0.3658 - accuracy: 0.8896\n",
      "Epoch 30/100\n",
      "15/15 [==============================] - 43s 3s/step - loss: 0.1523 - accuracy: 0.9625\n",
      "Epoch 31/100\n",
      "15/15 [==============================] - 44s 3s/step - loss: 0.0907 - accuracy: 0.9792\n",
      "Epoch 32/100\n",
      "15/15 [==============================] - 43s 3s/step - loss: 0.1269 - accuracy: 0.9708\n",
      "Epoch 33/100\n",
      "15/15 [==============================] - 46s 3s/step - loss: 0.1106 - accuracy: 0.9667\n",
      "Epoch 34/100\n",
      "15/15 [==============================] - 42s 3s/step - loss: 0.1026 - accuracy: 0.9688\n",
      "Epoch 35/100\n",
      "15/15 [==============================] - 43s 3s/step - loss: 0.0959 - accuracy: 0.9771\n",
      "Epoch 36/100\n",
      "15/15 [==============================] - 42s 3s/step - loss: 0.1783 - accuracy: 0.9479\n",
      "Epoch 37/100\n",
      "15/15 [==============================] - 43s 3s/step - loss: 0.0873 - accuracy: 0.9750\n",
      "Epoch 38/100\n",
      "15/15 [==============================] - 42s 3s/step - loss: 0.1291 - accuracy: 0.9625\n",
      "Epoch 39/100\n",
      "15/15 [==============================] - 44s 3s/step - loss: 0.1014 - accuracy: 0.9729\n",
      "Epoch 40/100\n",
      "15/15 [==============================] - 43s 3s/step - loss: 0.0545 - accuracy: 0.9833\n",
      "Epoch 41/100\n",
      "15/15 [==============================] - 44s 3s/step - loss: 0.1897 - accuracy: 0.9500\n",
      "Epoch 42/100\n",
      "15/15 [==============================] - 43s 3s/step - loss: 0.1580 - accuracy: 0.9500\n",
      "Epoch 43/100\n",
      "15/15 [==============================] - 43s 3s/step - loss: 0.0975 - accuracy: 0.9729\n",
      "Epoch 44/100\n",
      "15/15 [==============================] - 44s 3s/step - loss: 0.0621 - accuracy: 0.9875\n",
      "Epoch 45/100\n",
      "15/15 [==============================] - 44s 3s/step - loss: 0.0592 - accuracy: 0.9854\n",
      "Epoch 46/100\n",
      "15/15 [==============================] - 43s 3s/step - loss: 0.1041 - accuracy: 0.9750\n",
      "Epoch 47/100\n",
      "15/15 [==============================] - 42s 3s/step - loss: 0.1434 - accuracy: 0.9688\n",
      "Epoch 48/100\n",
      "15/15 [==============================] - 43s 3s/step - loss: 0.1071 - accuracy: 0.9688\n",
      "Epoch 49/100\n",
      "15/15 [==============================] - 43s 3s/step - loss: 0.2137 - accuracy: 0.9563\n",
      "Epoch 50/100\n",
      "15/15 [==============================] - 43s 3s/step - loss: 0.1945 - accuracy: 0.9521\n",
      "Epoch 51/100\n",
      "15/15 [==============================] - 43s 3s/step - loss: 0.1366 - accuracy: 0.9646\n",
      "Epoch 52/100\n",
      "15/15 [==============================] - 42s 3s/step - loss: 0.0793 - accuracy: 0.9812\n",
      "Epoch 53/100\n",
      "15/15 [==============================] - 44s 3s/step - loss: 0.1852 - accuracy: 0.9563\n",
      "Epoch 54/100\n",
      "15/15 [==============================] - 44s 3s/step - loss: 0.1010 - accuracy: 0.9771\n",
      "Epoch 55/100\n",
      "15/15 [==============================] - 42s 3s/step - loss: 0.0693 - accuracy: 0.9792\n",
      "Epoch 56/100\n",
      "15/15 [==============================] - 43s 3s/step - loss: 0.1036 - accuracy: 0.9729\n",
      "Epoch 57/100\n",
      "15/15 [==============================] - 46s 3s/step - loss: 0.1191 - accuracy: 0.9604\n",
      "Epoch 58/100\n",
      "15/15 [==============================] - 43s 3s/step - loss: 0.0774 - accuracy: 0.9792\n",
      "Epoch 59/100\n",
      "15/15 [==============================] - 43s 3s/step - loss: 0.1210 - accuracy: 0.9750\n",
      "Epoch 60/100\n",
      "15/15 [==============================] - 41s 3s/step - loss: 0.2226 - accuracy: 0.9583\n",
      "Epoch 61/100\n",
      "15/15 [==============================] - 41s 3s/step - loss: 0.1030 - accuracy: 0.9729\n",
      "Epoch 62/100\n",
      "15/15 [==============================] - 42s 3s/step - loss: 0.0995 - accuracy: 0.9729\n",
      "Epoch 63/100\n",
      "15/15 [==============================] - 41s 3s/step - loss: 0.1847 - accuracy: 0.9500\n",
      "Epoch 64/100\n",
      "15/15 [==============================] - 41s 3s/step - loss: 0.1892 - accuracy: 0.9583\n",
      "Epoch 65/100\n",
      "15/15 [==============================] - 42s 3s/step - loss: 0.1024 - accuracy: 0.9812\n",
      "Epoch 66/100\n",
      "15/15 [==============================] - 42s 3s/step - loss: 0.0672 - accuracy: 0.9812\n",
      "Epoch 67/100\n",
      "15/15 [==============================] - 42s 3s/step - loss: 0.0535 - accuracy: 0.9896\n",
      "Epoch 68/100\n",
      "15/15 [==============================] - 42s 3s/step - loss: 0.0599 - accuracy: 0.9854\n",
      "Epoch 69/100\n",
      "15/15 [==============================] - 41s 3s/step - loss: 0.0755 - accuracy: 0.9833\n",
      "Epoch 70/100\n",
      "15/15 [==============================] - 41s 3s/step - loss: 0.0583 - accuracy: 0.9833\n",
      "Epoch 71/100\n",
      "15/15 [==============================] - 41s 3s/step - loss: 0.0537 - accuracy: 0.9854\n",
      "Epoch 72/100\n",
      "15/15 [==============================] - 42s 3s/step - loss: 0.0518 - accuracy: 0.9875\n",
      "Epoch 73/100\n",
      "15/15 [==============================] - 41s 3s/step - loss: 0.0260 - accuracy: 0.9937\n",
      "Epoch 74/100\n",
      "15/15 [==============================] - 42s 3s/step - loss: 0.0323 - accuracy: 0.9896\n",
      "Epoch 75/100\n",
      "15/15 [==============================] - 41s 3s/step - loss: 0.0560 - accuracy: 0.9896\n",
      "Epoch 76/100\n",
      "15/15 [==============================] - 41s 3s/step - loss: 0.0676 - accuracy: 0.9812\n",
      "Epoch 77/100\n",
      "15/15 [==============================] - 41s 3s/step - loss: 0.0437 - accuracy: 0.9875\n",
      "Epoch 78/100\n",
      "15/15 [==============================] - 43s 3s/step - loss: 0.0404 - accuracy: 0.9854\n",
      "Epoch 79/100\n",
      "15/15 [==============================] - 42s 3s/step - loss: 0.1204 - accuracy: 0.9625\n",
      "Epoch 80/100\n",
      "15/15 [==============================] - 43s 3s/step - loss: 0.1070 - accuracy: 0.9708\n",
      "Epoch 81/100\n",
      "15/15 [==============================] - 43s 3s/step - loss: 0.1044 - accuracy: 0.9750\n",
      "Epoch 82/100\n",
      "15/15 [==============================] - 42s 3s/step - loss: 0.0680 - accuracy: 0.9792\n",
      "Epoch 83/100\n",
      "15/15 [==============================] - 43s 3s/step - loss: 0.0325 - accuracy: 0.9896\n",
      "Epoch 84/100\n",
      "15/15 [==============================] - 44s 3s/step - loss: 0.0619 - accuracy: 0.9896\n",
      "Epoch 85/100\n",
      "15/15 [==============================] - 44s 3s/step - loss: 0.0451 - accuracy: 0.9833\n",
      "Epoch 86/100\n",
      "15/15 [==============================] - 44s 3s/step - loss: 0.0962 - accuracy: 0.9833\n",
      "Epoch 87/100\n",
      "15/15 [==============================] - 43s 3s/step - loss: 0.0589 - accuracy: 0.9812\n",
      "Epoch 88/100\n",
      "15/15 [==============================] - 43s 3s/step - loss: 0.0547 - accuracy: 0.9833\n",
      "Epoch 89/100\n",
      "15/15 [==============================] - 43s 3s/step - loss: 0.0860 - accuracy: 0.9917\n",
      "Epoch 90/100\n",
      "15/15 [==============================] - 43s 3s/step - loss: 0.0704 - accuracy: 0.9771\n",
      "Epoch 91/100\n",
      "15/15 [==============================] - 44s 3s/step - loss: 0.1064 - accuracy: 0.9667\n",
      "Epoch 92/100\n",
      "15/15 [==============================] - 44s 3s/step - loss: 0.0852 - accuracy: 0.9708\n",
      "Epoch 93/100\n",
      "15/15 [==============================] - 45s 3s/step - loss: 0.0788 - accuracy: 0.9792\n",
      "Epoch 94/100\n",
      "15/15 [==============================] - 45s 3s/step - loss: 0.1370 - accuracy: 0.9688\n",
      "Epoch 95/100\n",
      "15/15 [==============================] - 44s 3s/step - loss: 0.0629 - accuracy: 0.9771\n",
      "Epoch 96/100\n",
      "15/15 [==============================] - 44s 3s/step - loss: 0.0766 - accuracy: 0.9854\n",
      "Epoch 97/100\n",
      "15/15 [==============================] - 44s 3s/step - loss: 0.2224 - accuracy: 0.9604\n",
      "Epoch 98/100\n",
      "15/15 [==============================] - 43s 3s/step - loss: 0.0682 - accuracy: 0.9833\n",
      "Epoch 99/100\n",
      "15/15 [==============================] - 43s 3s/step - loss: 0.0649 - accuracy: 0.9750\n",
      "Epoch 100/100\n",
      "15/15 [==============================] - 44s 3s/step - loss: 0.1043 - accuracy: 0.9771\n"
     ]
    }
   ],
   "source": [
    "historyModel = model.fit(\n",
    "    train_generator,\n",
    "    steps_per_epoch = len(train_generator),\n",
    "    epochs = 100,\n",
    ")"
   ]
  },
  {
   "cell_type": "code",
   "execution_count": 33,
   "metadata": {},
   "outputs": [
    {
     "data": {
      "image/png": "[encoded data removed]",
      "text/plain": [
       "<Figure size 640x480 with 1 Axes>"
      ]
     },
     "metadata": {},
     "output_type": "display_data"
    },
    {
     "name": "stdout",
     "output_type": "stream",
     "text": [
      "Last Training Accuracy: 97.70833253860474 %\n",
      "Last Training Loss: 0.1043434888124466\n"
     ]
    }
   ],
   "source": [
    "import matplotlib.pyplot as plt\n",
    "\n",
    "# Ambil nilai akurasi, loss, val_loss, dan val_acc dari historyModel\n",
    "train_accuracy = historyModel.history['accuracy']\n",
    "#val_accuracy = historyModel.history['val_accuracy']\n",
    "train_loss = historyModel.history['loss']\n",
    "#val_loss = historyModel.history['val_loss']\n",
    "\n",
    "# Ubah nilai akurasi dan val_acc menjadi persen\n",
    "train_accuracy_percent = [acc * 100 for acc in train_accuracy]\n",
    "#val_accuracy_percent = [acc * 100 for acc in val_accuracy]\n",
    "\n",
    "# Plotting grafik\n",
    "epochs = range(1, len(train_accuracy) + 1)\n",
    "\n",
    "plt.plot(epochs, train_accuracy_percent, label='Training Accuracy')\n",
    "#plt.plot(epochs, val_accuracy_percent, label='Validation Accuracy')\n",
    "plt.title('Training Accuracy')\n",
    "plt.xlabel('Epochs')\n",
    "plt.ylabel('Accuracy (%)')\n",
    "plt.legend()\n",
    "plt.show()\n",
    "\n",
    "print(\"Last Training Accuracy:\", train_accuracy_percent[-1], \"%\")\n",
    "#print(\"Last Validation Accuracy:\", val_accuracy_percent[-1], \"%\")\n",
    "print(\"Last Training Loss:\", train_loss[-1])\n",
    "#print(\"Last Validation Loss:\", val_loss[-1])"
   ]
  },
  {
   "cell_type": "code",
   "execution_count": 34,
   "metadata": {},
   "outputs": [],
   "source": [
    "model.save(\"D:/SEM 8/TA/DRAFT TA/file_model/100epoch64bs.h5\")"
   ]
  },
  {
   "cell_type": "code",
   "execution_count": 37,
   "metadata": {},
   "outputs": [
    {
     "name": "stdout",
     "output_type": "stream",
     "text": [
      "4/4 [==============================] - 5s 947ms/step\n"
     ]
    },
    {
     "data": {
      "image/png": "[encoded data removed]",
      "text/plain": [
       "<Figure size 640x480 with 2 Axes>"
      ]
     },
     "metadata": {},
     "output_type": "display_data"
    },
    {
     "name": "stdout",
     "output_type": "stream",
     "text": [
      "              precision    recall  f1-score   support\n",
      "\n",
      "       MERAH       0.95      1.00      0.98        20\n",
      "        BIRU       1.00      1.00      1.00        20\n",
      "      KUNING       1.00      1.00      1.00        20\n",
      "       HIJAU       1.00      1.00      1.00        20\n",
      "        UNGU       1.00      1.00      1.00        20\n",
      "      ORANYE       1.00      0.95      0.97        20\n",
      "\n",
      "    accuracy                           0.99       120\n",
      "   macro avg       0.99      0.99      0.99       120\n",
      "weighted avg       0.99      0.99      0.99       120\n",
      "\n"
     ]
    }
   ],
   "source": [
    "import numpy as np\n",
    "import pandas as pd\n",
    "from sklearn.metrics import classification_report, confusion_matrix, ConfusionMatrixDisplay\n",
    "import seaborn as sns\n",
    "import matplotlib.pyplot as plt\n",
    "import tensorflow as tf\n",
    "\n",
    "# Memuat model\n",
    "model = tf.keras.models.load_model('D:/SEM 8/TA/DRAFT TA/file_model/100epoch64bs.h5')\n",
    "\n",
    "# Memprediksi kelas menggunakan generator test\n",
    "y_pred_prob = model.predict(test_data_generator)\n",
    "y_pred = np.argmax(y_pred_prob, axis=1)\n",
    "y_true = test_data_generator.classes\n",
    "\n",
    "# Mendapatkan class labels\n",
    "class_labels = list(test_data_generator.class_indices.keys())\n",
    "\n",
    "# Mendapatkan confusion matrix\n",
    "cm = confusion_matrix(y_true, y_pred)\n",
    "\n",
    "disp = ConfusionMatrixDisplay(confusion_matrix=cm,\n",
    "                                display_labels=class_labels)\n",
    "disp.plot(cmap='Blues')\n",
    "plt.title('Confusion Matrix')\n",
    "plt.show()\n",
    "\n",
    "# Menampilkan classification report\n",
    "print(classification_report(y_true, y_pred, target_names=class_labels))\n"
   ]
  },
  {
   "cell_type": "code",
   "execution_count": 15,
   "metadata": {},
   "outputs": [
    {
     "name": "stderr",
     "output_type": "stream",
     "text": [
      "WARNING:absl:Found untraced functions such as _jit_compiled_convolution_op, _jit_compiled_convolution_op, _jit_compiled_convolution_op, _jit_compiled_convolution_op, _update_step_xla while saving (showing 5 of 5). These functions will not be directly callable after loading.\n"
     ]
    },
    {
     "name": "stdout",
     "output_type": "stream",
     "text": [
      "INFO:tensorflow:Assets written to: C:\\Users\\HAPPYC~1\\AppData\\Local\\Temp\\tmp_ric1kic\\assets\n"
     ]
    },
    {
     "name": "stderr",
     "output_type": "stream",
     "text": [
      "INFO:tensorflow:Assets written to: C:\\Users\\HAPPYC~1\\AppData\\Local\\Temp\\tmp_ric1kic\\assets\n"
     ]
    }
   ],
   "source": [
    "import tensorflow as tf\n",
    "# Memuat model\n",
    "model = tf.keras.models.load_model('D:/SEM 8/TA/DRAFT TA/file_model/100epoch64bs.h5')\n",
    "\n",
    "# Convert the model to TensorFlow Lite with optimization\n",
    "converter = tf.lite.TFLiteConverter.from_keras_model(model)\n",
    "converter.optimizations = [tf.lite.Optimize.DEFAULT]  # Apply default optimizations which might include quantization\n",
    "tflite_model = converter.convert()\n",
    "\n",
    "# Save the model to disk\n",
    "with open('D:/SEM 8/TA/DRAFT TA/model100_64.tflite', \"wb\") as f:\n",
    "    f.write(tflite_model)\n"
   ]
  }
 ],
 "metadata": {
  "kernelspec": {
   "display_name": "Python 3",
   "language": "python",
   "name": "python3"
  },
  "language_info": {
   "codemirror_mode": {
    "name": "ipython",
    "version": 3
   },
   "file_extension": ".py",
   "mimetype": "text/x-python",
   "name": "python",
   "nbconvert_exporter": "python",
   "pygments_lexer": "ipython3",
   "version": "3.11.1"
  }
 },
 "nbformat": 4,
 "nbformat_minor": 2
}
